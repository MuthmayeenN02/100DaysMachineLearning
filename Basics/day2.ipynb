{
  "nbformat": 4,
  "nbformat_minor": 0,
  "metadata": {
    "colab": {
      "provenance": []
    },
    "kernelspec": {
      "name": "python3",
      "display_name": "Python 3"
    },
    "language_info": {
      "name": "python"
    }
  },
  "cells": [
    {
      "cell_type": "markdown",
      "source": [
        "<H1> <B>ARRAY INDEXING</B> </H1>\n",
        "\n",
        "---\n",
        "\n"
      ],
      "metadata": {
        "id": "Ez88PygtMGlT"
      }
    },
    {
      "cell_type": "markdown",
      "source": [
        "Array indexing is the same as accessing an array element.\n",
        "\n",
        "You can access an array element by referring to its index number.\n",
        "\n",
        "The indexes in NumPy arrays start with 0, meaning that the first element has index 0, and the second has index 1 etc."
      ],
      "metadata": {
        "id": "mqBrME-DMflR"
      }
    },
    {
      "cell_type": "code",
      "source": [
        "import numpy as np\n",
        "\n",
        "arr = np.array([1, 2, 3, 4])\n",
        "\n",
        "print(arr[0])"
      ],
      "metadata": {
        "colab": {
          "base_uri": "https://localhost:8080/"
        },
        "id": "gjKABmWMMxwL",
        "outputId": "904b91aa-aca8-42dc-f9cf-4220b449b583"
      },
      "execution_count": 1,
      "outputs": [
        {
          "output_type": "stream",
          "name": "stdout",
          "text": [
            "1\n"
          ]
        }
      ]
    },
    {
      "cell_type": "code",
      "source": [
        "arr1 = np.array([1, 2, 3, 4])\n",
        "\n",
        "print(arr[1])\n",
        "\n",
        "print(arr[2]+arr[3])"
      ],
      "metadata": {
        "colab": {
          "base_uri": "https://localhost:8080/"
        },
        "id": "2Ip87Db3NCcz",
        "outputId": "b534006c-699e-44d3-e4ab-cf2aff9f7acf"
      },
      "execution_count": 2,
      "outputs": [
        {
          "output_type": "stream",
          "name": "stdout",
          "text": [
            "2\n",
            "7\n"
          ]
        }
      ]
    },
    {
      "cell_type": "markdown",
      "source": [
        "<h3>Access 2-D Arrays</h3>\n",
        "To access elements from 2-D arrays we can use comma separated integers representing the dimension and the index of the element."
      ],
      "metadata": {
        "id": "L2Jwm9aiM7Ci"
      }
    },
    {
      "cell_type": "code",
      "source": [
        "import numpy as np\n",
        "\n",
        "arr = np.array([[2,4,6,7,8], [1,3,4,5,6]])\n",
        "\n",
        "print('2nd element on 1st row: ', arr[0, 1])\n",
        "\n",
        "print('5th element on 2nd row: ', arr[1, 4])"
      ],
      "metadata": {
        "colab": {
          "base_uri": "https://localhost:8080/"
        },
        "id": "Ate5lyYnNfFz",
        "outputId": "8ccbb8f7-65b8-4259-9804-3b127c7796b5"
      },
      "execution_count": 4,
      "outputs": [
        {
          "output_type": "stream",
          "name": "stdout",
          "text": [
            "2nd element on 1st row:  4\n",
            "5th element on 2nd row:  6\n"
          ]
        }
      ]
    },
    {
      "cell_type": "markdown",
      "source": [
        "<h3>Access 3-D Arrays</h3>\n",
        "To access elements from 3-D arrays we can use comma separated integers representing the dimensions and the index of the element."
      ],
      "metadata": {
        "id": "YbM72Z5POKtM"
      }
    },
    {
      "cell_type": "code",
      "source": [
        "import numpy as np\n",
        "\n",
        "arr = np.array([[[1, 2, 3], [4, 5, 6]], [[7, 8, 9], [10, 11, 12]]])\n",
        "\n",
        "print(arr[0, 1, 2])"
      ],
      "metadata": {
        "colab": {
          "base_uri": "https://localhost:8080/"
        },
        "id": "hmIojpraOQIy",
        "outputId": "12001f7d-4622-4d6a-bc48-e64a44072882"
      },
      "execution_count": 5,
      "outputs": [
        {
          "output_type": "stream",
          "name": "stdout",
          "text": [
            "6\n"
          ]
        }
      ]
    },
    {
      "cell_type": "markdown",
      "source": [
        "<h3>Negative Indexing</h3>\n",
        "Use negative indexing to access an array from the end."
      ],
      "metadata": {
        "id": "69jdugVgOVDT"
      }
    },
    {
      "cell_type": "code",
      "source": [
        "import numpy as np\n",
        "\n",
        "arr = np.array([[1,2,3,4,5], [6,7,8,9,10]])\n",
        "\n",
        "print('Last element from 1st dim: ', arr[0, -1])\n",
        "\n",
        "print('Last element from 2nd dim: ', arr[1, -1])"
      ],
      "metadata": {
        "colab": {
          "base_uri": "https://localhost:8080/"
        },
        "id": "tMzPtlFBOsDk",
        "outputId": "14f49ac2-dc2a-43ed-fe15-3312c5f46c90"
      },
      "execution_count": 12,
      "outputs": [
        {
          "output_type": "stream",
          "name": "stdout",
          "text": [
            "Last element from 1st dim:  5\n",
            "Last element from 2nd dim:  10\n"
          ]
        }
      ]
    }
  ]
}

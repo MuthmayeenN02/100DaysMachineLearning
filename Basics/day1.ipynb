{
  "nbformat": 4,
  "nbformat_minor": 0,
  "metadata": {
    "colab": {
      "provenance": []
    },
    "kernelspec": {
      "name": "python3",
      "display_name": "Python 3"
    },
    "language_info": {
      "name": "python"
    }
  },
  "cells": [
    {
      "cell_type": "markdown",
      "source": [
        "**<h1>DAY 1</H1>**\n",
        "\n",
        "---\n",
        "\n",
        "\n",
        "Let's start with the Basics of Numpy Array.\n",
        "<br>Creating a Numpy Array.\n",
        "\n",
        "---\n",
        "\n"
      ],
      "metadata": {
        "id": "jbR2vigAUOBx"
      }
    },
    {
      "cell_type": "markdown",
      "source": [
        "NumPy is used to work with arrays. The array object in NumPy is called ndarray.\n",
        "\n",
        "We can create a NumPy ndarray object by using the array() function.\n",
        "\n",
        "---\n",
        "\n"
      ],
      "metadata": {
        "id": "dAYcMOblVYCP"
      }
    },
    {
      "cell_type": "code",
      "source": [
        "import numpy as np\n",
        "\n",
        "arr = np.array([1, 2, 3, 4, 5])\n",
        "\n",
        "print(arr)\n",
        "\n",
        "print(type(arr))"
      ],
      "metadata": {
        "colab": {
          "base_uri": "https://localhost:8080/"
        },
        "id": "MjGTfU9WVmoV",
        "outputId": "c090b4b0-7999-4a75-8927-7e24a85ea2eb"
      },
      "execution_count": 1,
      "outputs": [
        {
          "output_type": "stream",
          "name": "stdout",
          "text": [
            "[1 2 3 4 5]\n",
            "<class 'numpy.ndarray'>\n"
          ]
        }
      ]
    },
    {
      "cell_type": "markdown",
      "source": [
        "<h2>Dimensions in Arrays</h2>\n",
        "\n",
        "---\n",
        "\n"
      ],
      "metadata": {
        "id": "Y8RbqZ0NV3s4"
      }
    },
    {
      "cell_type": "markdown",
      "source": [
        "<H3>0-D Arrays</H3>\n",
        "\n",
        "0-D arrays, or Scalars, are the elements in an array. Each value in an array is a 0-D array."
      ],
      "metadata": {
        "id": "MpgnAbopWWGn"
      }
    },
    {
      "cell_type": "code",
      "source": [
        "import numpy as np\n",
        "\n",
        "arr = np.array(11)\n",
        "\n",
        "print(arr)"
      ],
      "metadata": {
        "colab": {
          "base_uri": "https://localhost:8080/"
        },
        "id": "bvjNudcpWxb_",
        "outputId": "42cc81f5-4dac-4ee1-dc42-81e976410cd8"
      },
      "execution_count": 2,
      "outputs": [
        {
          "output_type": "stream",
          "name": "stdout",
          "text": [
            "11\n"
          ]
        }
      ]
    },
    {
      "cell_type": "markdown",
      "source": [
        "<H3>1-D Arrays</H3>\n",
        "An array that has 0-D arrays as its elements is called uni-dimensional or 1-D array.\n",
        "These are the most common and basic arrays."
      ],
      "metadata": {
        "id": "zah9jBr0W_Bg"
      }
    },
    {
      "cell_type": "code",
      "source": [
        "import numpy as np\n",
        "\n",
        "arr = np.array([2,4,6,8])\n",
        "\n",
        "print(arr)"
      ],
      "metadata": {
        "colab": {
          "base_uri": "https://localhost:8080/"
        },
        "id": "chv9zACpXH2z",
        "outputId": "5950df35-9c2f-4230-803b-1d888a375e92"
      },
      "execution_count": 3,
      "outputs": [
        {
          "output_type": "stream",
          "name": "stdout",
          "text": [
            "[2 4 6 8]\n"
          ]
        }
      ]
    },
    {
      "cell_type": "markdown",
      "source": [
        "<H3>2-D Arrays</H3>\n",
        "An array that has 1-D arrays as its elements is called a 2-D array.\n",
        "These are often used to represent matrix or 2nd order tensors."
      ],
      "metadata": {
        "id": "UycMf1CQXfWA"
      }
    },
    {
      "cell_type": "code",
      "source": [
        "import numpy as np\n",
        "\n",
        "arr = np.array([[2,5,6], [7,4,3]])\n",
        "\n",
        "print(arr)"
      ],
      "metadata": {
        "colab": {
          "base_uri": "https://localhost:8080/"
        },
        "id": "1E0sDDoXXm5B",
        "outputId": "1ac11f41-c6ad-44a0-dfbe-e205ee674c2b"
      },
      "execution_count": 4,
      "outputs": [
        {
          "output_type": "stream",
          "name": "stdout",
          "text": [
            "[[2 5 6]\n",
            " [7 4 3]]\n"
          ]
        }
      ]
    },
    {
      "cell_type": "markdown",
      "source": [
        "<H3>3-D arrays</H3>\n",
        "An array that has 2-D arrays (matrices) as its elements is called 3-D array.\n",
        "These are often used to represent a 3rd order tensor."
      ],
      "metadata": {
        "id": "TeSS_7qRXw_Y"
      }
    },
    {
      "cell_type": "code",
      "source": [
        "import numpy as np\n",
        "\n",
        "arr = np.array([[[1, 2, 3], [4, 5, 6]], [[1, 2, 3], [4, 5, 6]]])\n",
        "\n",
        "print(arr)"
      ],
      "metadata": {
        "colab": {
          "base_uri": "https://localhost:8080/"
        },
        "id": "b4S4QLcoX2jQ",
        "outputId": "9617246a-2dd5-4574-fe4c-14d09939abbe"
      },
      "execution_count": 5,
      "outputs": [
        {
          "output_type": "stream",
          "name": "stdout",
          "text": [
            "[[[1 2 3]\n",
            "  [4 5 6]]\n",
            "\n",
            " [[1 2 3]\n",
            "  [4 5 6]]]\n"
          ]
        }
      ]
    },
    {
      "cell_type": "markdown",
      "source": [
        "<H3>Check Number of Dimensions?</H3>\n",
        "NumPy Arrays provides the ndim attribute that returns an integer that tells us how many dimensions the array have."
      ],
      "metadata": {
        "id": "3qPK45tCYDRA"
      }
    },
    {
      "cell_type": "code",
      "source": [
        "a = np.array(11)\n",
        "b = np.array([2,4,6,8])\n",
        "c = np.array([[7,5,6], [2,5,8]])\n",
        "d = np.array([[[1, 2, 3], [4, 5, 6]], [[1, 2, 3], [4, 5, 6]]])\n",
        "\n",
        "print(a.ndim)\n",
        "print(b.ndim)\n",
        "print(c.ndim)\n",
        "print(d.ndim)"
      ],
      "metadata": {
        "colab": {
          "base_uri": "https://localhost:8080/"
        },
        "id": "4Hj5i9C6YHJo",
        "outputId": "7533ee98-e9a7-4bc1-a6b6-3ef27d6759a3"
      },
      "execution_count": 6,
      "outputs": [
        {
          "output_type": "stream",
          "name": "stdout",
          "text": [
            "0\n",
            "1\n",
            "2\n",
            "3\n"
          ]
        }
      ]
    },
    {
      "cell_type": "markdown",
      "source": [
        "<H3>Higher Dimensional Arrays</H3>\n",
        "An array can have any number of dimensions.\n",
        "When the array is created, you can define the number of dimensions by using the ndmin argument."
      ],
      "metadata": {
        "id": "dDy7EXk4YUzL"
      }
    },
    {
      "cell_type": "code",
      "source": [
        "import numpy as np\n",
        "\n",
        "arr = np.array([1, 2, 3, 4], ndmin=5)\n",
        "\n",
        "print(arr)\n",
        "print('number of dimensions :', arr.ndim)"
      ],
      "metadata": {
        "colab": {
          "base_uri": "https://localhost:8080/"
        },
        "id": "N0SXNhuHY72Y",
        "outputId": "ca6b932d-b13d-49f5-ea07-c863e17a6e1c"
      },
      "execution_count": 7,
      "outputs": [
        {
          "output_type": "stream",
          "name": "stdout",
          "text": [
            "[[[[[1 2 3 4]]]]]\n",
            "number of dimensions : 5\n"
          ]
        }
      ]
    },
    {
      "cell_type": "code",
      "source": [],
      "metadata": {
        "id": "rpemGHJmZDoN"
      },
      "execution_count": null,
      "outputs": []
    }
  ]
}

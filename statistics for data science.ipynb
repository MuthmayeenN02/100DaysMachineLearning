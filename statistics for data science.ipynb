{
 "cells": [
  {
   "cell_type": "code",
   "execution_count": null,
   "id": "443edf97",
   "metadata": {},
   "outputs": [],
   "source": [
    "### statisitics vigneshwar"
   ]
  },
  {
   "cell_type": "raw",
   "id": "cb71a3c9",
   "metadata": {},
   "source": [
    "Common statisticial concept\n",
    "population: group of object ,events\n",
    "sample:is a smaller ,manageable "
   ]
  },
  {
   "cell_type": "raw",
   "id": "974cf726",
   "metadata": {},
   "source": [
    "parameter:\n",
    "    tells something amount populaiton\n",
    "    mean==average\n",
    "statistics\n",
    "the numerical values associated with an observed sample\n",
    " "
   ]
  },
  {
   "cell_type": "raw",
   "id": "454fc1fd",
   "metadata": {},
   "source": [
    "Data :\n",
    "     data is a collection of facts ,such as numbers ,words,measuremetns \n",
    "        \n",
    "        example:\n",
    "            patients record \n",
    "            students records"
   ]
  },
  {
   "cell_type": "raw",
   "id": "1f53580d",
   "metadata": {},
   "source": [
    "Data types;\n",
    "variable-\n",
    "    quallitative:\n",
    "        norminal:\n",
    "            categorical data\n",
    "        ordinal:\n",
    "            categorical data\n",
    "    quantitative:\n",
    "        interval:\n",
    "            discreet\n",
    "        ratio:\n",
    "            discreet\n",
    "qualitative data:anything apart from numbers ,eg-color\n",
    "quantitative:can be expressed in numbers.\n",
    "norminal variable: we cannt easily ordered. black is greater than red.\n",
    "ordinal variable:ordered using any scale its ordinal data ,we cannt find excatly happy or not\n",
    "interval:10-20, like wise\n",
    "ratio:positive,"
   ]
  },
  {
   "cell_type": "raw",
   "id": "3abf7a8a",
   "metadata": {},
   "source": [
    "Data attributes: which descibe our data set\n",
    "primary data - collected by the organization\n",
    "secondary data : 3rd party , gov departments"
   ]
  },
  {
   "cell_type": "raw",
   "id": "8793cbfb",
   "metadata": {},
   "source": [
    "Frequency distribution\n",
    "value_counts()-> no. of appears will be counted.\n",
    "Cummulative frequency"
   ]
  },
  {
   "cell_type": "raw",
   "id": "9073a9da",
   "metadata": {},
   "source": [
    "central tendency:\n",
    "knowns as measure of location or statistical average.\n",
    "mean,mode,median"
   ]
  },
  {
   "cell_type": "raw",
   "id": "f592826e",
   "metadata": {},
   "source": [
    "mean:sample-xbar\n",
    "average:population-meau \n",
    "data points must be quantitative.\n"
   ]
  },
  {
   "cell_type": "code",
   "execution_count": 3,
   "id": "b5db9db0",
   "metadata": {},
   "outputs": [
    {
     "data": {
      "text/plain": [
       "46.2"
      ]
     },
     "execution_count": 3,
     "metadata": {},
     "output_type": "execute_result"
    }
   ],
   "source": [
    "import numpy as np\n",
    "data=[12,41,52,74,52]\n",
    "np.mean(data)"
   ]
  },
  {
   "cell_type": "code",
   "execution_count": 5,
   "id": "fa735a63",
   "metadata": {},
   "outputs": [
    {
     "data": {
      "text/plain": [
       "52.0"
      ]
     },
     "execution_count": 5,
     "metadata": {},
     "output_type": "execute_result"
    }
   ],
   "source": [
    "np.median(data)"
   ]
  },
  {
   "cell_type": "raw",
   "id": "8c2a586a",
   "metadata": {},
   "source": [
    "Measure of dispersion\n",
    "spread of the distribution arround central tendency\n",
    "1.std\n",
    "2.co_eff\n",
    "3.range\n",
    "4.the empirical rule\n",
    "5.iqr\n",
    "6.the five number summary\n"
   ]
  },
  {
   "cell_type": "raw",
   "id": "c9293e75",
   "metadata": {},
   "source": [
    "variance :\n",
    "    each data points how far from the mean.\n",
    "low std-closer\n",
    "high std-spread far away\n"
   ]
  },
  {
   "cell_type": "raw",
   "id": "69a44e95",
   "metadata": {},
   "source": [
    "co-eff of varience\n",
    "ratio of std to mean."
   ]
  },
  {
   "cell_type": "raw",
   "id": "bdd0d56c",
   "metadata": {},
   "source": [
    "five number summary \n",
    "median \n",
    "upper quartile \n",
    "lower quartile\n",
    "highest value\n",
    "lowest value\n"
   ]
  },
  {
   "cell_type": "raw",
   "id": "79d6603b",
   "metadata": {},
   "source": [
    "import seaborn as sns\n",
    "box plot"
   ]
  },
  {
   "cell_type": "raw",
   "id": "7cd9584c",
   "metadata": {},
   "source": [
    "normal distribution\n",
    "-also known as Gaussian Distribution\n",
    "mean=median=mode\n",
    "bell shaped\n",
    "total area under the curve to 1\n",
    "replace nan value with mean if its normally distributed."
   ]
  },
  {
   "cell_type": "raw",
   "id": "6cc22419",
   "metadata": {},
   "source": [
    "skewed distributed.\n",
    "negative skewed.mode>median>mean\n",
    "positive skewed mode<median<mean\n",
    "here mode or median give correct solution"
   ]
  },
  {
   "cell_type": "code",
   "execution_count": 42,
   "id": "fb039969",
   "metadata": {},
   "outputs": [],
   "source": [
    "import seaborn as sns\n",
    "import pandas as pd\n",
    "df1=pd.read_csv(\"Automobile.csv\")\n",
    "import matplotlib.pyplot as plt"
   ]
  },
  {
   "cell_type": "code",
   "execution_count": 43,
   "id": "d66e5a59",
   "metadata": {},
   "outputs": [
    {
     "data": {
      "text/html": [
       "<div>\n",
       "<style scoped>\n",
       "    .dataframe tbody tr th:only-of-type {\n",
       "        vertical-align: middle;\n",
       "    }\n",
       "\n",
       "    .dataframe tbody tr th {\n",
       "        vertical-align: top;\n",
       "    }\n",
       "\n",
       "    .dataframe thead th {\n",
       "        text-align: right;\n",
       "    }\n",
       "</style>\n",
       "<table border=\"1\" class=\"dataframe\">\n",
       "  <thead>\n",
       "    <tr style=\"text-align: right;\">\n",
       "      <th></th>\n",
       "      <th>symboling</th>\n",
       "      <th>normalized_losses</th>\n",
       "      <th>make</th>\n",
       "      <th>fuel_type</th>\n",
       "      <th>aspiration</th>\n",
       "      <th>number_of_doors</th>\n",
       "      <th>body_style</th>\n",
       "      <th>drive_wheels</th>\n",
       "      <th>engine_location</th>\n",
       "      <th>wheel_base</th>\n",
       "      <th>...</th>\n",
       "      <th>engine_size</th>\n",
       "      <th>fuel_system</th>\n",
       "      <th>bore</th>\n",
       "      <th>stroke</th>\n",
       "      <th>compression_ratio</th>\n",
       "      <th>horsepower</th>\n",
       "      <th>peak_rpm</th>\n",
       "      <th>city_mpg</th>\n",
       "      <th>highway_mpg</th>\n",
       "      <th>price</th>\n",
       "    </tr>\n",
       "  </thead>\n",
       "  <tbody>\n",
       "    <tr>\n",
       "      <th>0</th>\n",
       "      <td>3</td>\n",
       "      <td>168</td>\n",
       "      <td>alfa-romero</td>\n",
       "      <td>gas</td>\n",
       "      <td>std</td>\n",
       "      <td>two</td>\n",
       "      <td>convertible</td>\n",
       "      <td>rwd</td>\n",
       "      <td>front</td>\n",
       "      <td>88.6</td>\n",
       "      <td>...</td>\n",
       "      <td>130</td>\n",
       "      <td>mpfi</td>\n",
       "      <td>3.47</td>\n",
       "      <td>2.68</td>\n",
       "      <td>9.0</td>\n",
       "      <td>111</td>\n",
       "      <td>5000</td>\n",
       "      <td>21</td>\n",
       "      <td>27</td>\n",
       "      <td>13495</td>\n",
       "    </tr>\n",
       "    <tr>\n",
       "      <th>1</th>\n",
       "      <td>3</td>\n",
       "      <td>168</td>\n",
       "      <td>alfa-romero</td>\n",
       "      <td>gas</td>\n",
       "      <td>std</td>\n",
       "      <td>two</td>\n",
       "      <td>convertible</td>\n",
       "      <td>rwd</td>\n",
       "      <td>front</td>\n",
       "      <td>88.6</td>\n",
       "      <td>...</td>\n",
       "      <td>130</td>\n",
       "      <td>mpfi</td>\n",
       "      <td>3.47</td>\n",
       "      <td>2.68</td>\n",
       "      <td>9.0</td>\n",
       "      <td>111</td>\n",
       "      <td>5000</td>\n",
       "      <td>21</td>\n",
       "      <td>27</td>\n",
       "      <td>16500</td>\n",
       "    </tr>\n",
       "    <tr>\n",
       "      <th>2</th>\n",
       "      <td>1</td>\n",
       "      <td>168</td>\n",
       "      <td>alfa-romero</td>\n",
       "      <td>gas</td>\n",
       "      <td>std</td>\n",
       "      <td>two</td>\n",
       "      <td>hatchback</td>\n",
       "      <td>rwd</td>\n",
       "      <td>front</td>\n",
       "      <td>94.5</td>\n",
       "      <td>...</td>\n",
       "      <td>152</td>\n",
       "      <td>mpfi</td>\n",
       "      <td>2.68</td>\n",
       "      <td>3.47</td>\n",
       "      <td>9.0</td>\n",
       "      <td>154</td>\n",
       "      <td>5000</td>\n",
       "      <td>19</td>\n",
       "      <td>26</td>\n",
       "      <td>16500</td>\n",
       "    </tr>\n",
       "    <tr>\n",
       "      <th>3</th>\n",
       "      <td>2</td>\n",
       "      <td>164</td>\n",
       "      <td>audi</td>\n",
       "      <td>gas</td>\n",
       "      <td>std</td>\n",
       "      <td>four</td>\n",
       "      <td>sedan</td>\n",
       "      <td>fwd</td>\n",
       "      <td>front</td>\n",
       "      <td>99.8</td>\n",
       "      <td>...</td>\n",
       "      <td>109</td>\n",
       "      <td>mpfi</td>\n",
       "      <td>3.19</td>\n",
       "      <td>3.40</td>\n",
       "      <td>10.0</td>\n",
       "      <td>102</td>\n",
       "      <td>5500</td>\n",
       "      <td>24</td>\n",
       "      <td>30</td>\n",
       "      <td>13950</td>\n",
       "    </tr>\n",
       "    <tr>\n",
       "      <th>4</th>\n",
       "      <td>2</td>\n",
       "      <td>164</td>\n",
       "      <td>audi</td>\n",
       "      <td>gas</td>\n",
       "      <td>std</td>\n",
       "      <td>four</td>\n",
       "      <td>sedan</td>\n",
       "      <td>4wd</td>\n",
       "      <td>front</td>\n",
       "      <td>99.4</td>\n",
       "      <td>...</td>\n",
       "      <td>136</td>\n",
       "      <td>mpfi</td>\n",
       "      <td>3.19</td>\n",
       "      <td>3.40</td>\n",
       "      <td>8.0</td>\n",
       "      <td>115</td>\n",
       "      <td>5500</td>\n",
       "      <td>18</td>\n",
       "      <td>22</td>\n",
       "      <td>17450</td>\n",
       "    </tr>\n",
       "  </tbody>\n",
       "</table>\n",
       "<p>5 rows × 26 columns</p>\n",
       "</div>"
      ],
      "text/plain": [
       "   symboling  normalized_losses         make fuel_type aspiration  \\\n",
       "0          3                168  alfa-romero       gas        std   \n",
       "1          3                168  alfa-romero       gas        std   \n",
       "2          1                168  alfa-romero       gas        std   \n",
       "3          2                164         audi       gas        std   \n",
       "4          2                164         audi       gas        std   \n",
       "\n",
       "  number_of_doors   body_style drive_wheels engine_location  wheel_base  ...  \\\n",
       "0             two  convertible          rwd           front        88.6  ...   \n",
       "1             two  convertible          rwd           front        88.6  ...   \n",
       "2             two    hatchback          rwd           front        94.5  ...   \n",
       "3            four        sedan          fwd           front        99.8  ...   \n",
       "4            four        sedan          4wd           front        99.4  ...   \n",
       "\n",
       "   engine_size  fuel_system  bore  stroke compression_ratio horsepower  \\\n",
       "0          130         mpfi  3.47    2.68               9.0        111   \n",
       "1          130         mpfi  3.47    2.68               9.0        111   \n",
       "2          152         mpfi  2.68    3.47               9.0        154   \n",
       "3          109         mpfi  3.19    3.40              10.0        102   \n",
       "4          136         mpfi  3.19    3.40               8.0        115   \n",
       "\n",
       "   peak_rpm city_mpg  highway_mpg  price  \n",
       "0      5000       21           27  13495  \n",
       "1      5000       21           27  16500  \n",
       "2      5000       19           26  16500  \n",
       "3      5500       24           30  13950  \n",
       "4      5500       18           22  17450  \n",
       "\n",
       "[5 rows x 26 columns]"
      ]
     },
     "execution_count": 43,
     "metadata": {},
     "output_type": "execute_result"
    }
   ],
   "source": [
    "df1.head()"
   ]
  },
  {
   "cell_type": "code",
   "execution_count": 31,
   "id": "7cd70c03",
   "metadata": {},
   "outputs": [
    {
     "name": "stderr",
     "output_type": "stream",
     "text": [
      "C:\\Users\\vigne\\AppData\\Local\\Temp\\ipykernel_6388\\1849018083.py:1: FutureWarning: \n",
      "\n",
      "`shade` is now deprecated in favor of `fill`; setting `fill=True`.\n",
      "This will become an error in seaborn v0.14.0; please update your code.\n",
      "\n",
      "  sns.kdeplot(df['normalized_losses'],shade=True)\n"
     ]
    },
    {
     "data": {
      "text/plain": [
       "<AxesSubplot: xlabel='normalized_losses', ylabel='Density'>"
      ]
     },
     "execution_count": 31,
     "metadata": {},
     "output_type": "execute_result"
    },
    {
     "data": {
      "image/png": "[encoded data removed]",
      "text/plain": [
       "<Figure size 640x480 with 1 Axes>"
      ]
     },
     "metadata": {},
     "output_type": "display_data"
    }
   ],
   "source": [
    "sns.kdeplot(df['normalized_losses'],shade=True)\n"
   ]
  },
  {
   "cell_type": "code",
   "execution_count": 32,
   "id": "a0708092",
   "metadata": {},
   "outputs": [
    {
     "data": {
      "text/plain": [
       "<AxesSubplot: >"
      ]
     },
     "execution_count": 32,
     "metadata": {},
     "output_type": "execute_result"
    },
    {
     "data": {
      "image/png": "[encoded data removed]",
      "text/plain": [
       "<Figure size 640x480 with 1 Axes>"
      ]
     },
     "metadata": {},
     "output_type": "display_data"
    }
   ],
   "source": [
    "df['symboling'].hist(bins=3)"
   ]
  },
  {
   "cell_type": "raw",
   "id": "b2184cba",
   "metadata": {},
   "source": [
    "central limit theorem\n",
    "sampling distribution of the mean of any independent random value will be"
   ]
  },
  {
   "cell_type": "code",
   "execution_count": 33,
   "id": "dc3a810a",
   "metadata": {},
   "outputs": [],
   "source": [
    "from numpy.random import seed\n",
    "from numpy.random import randint\n",
    "from numpy import mean\n",
    "\n",
    "seed(1)\n",
    "rools=[mean(randint(1,7,100)) for i in range(1000)]\n"
   ]
  },
  {
   "cell_type": "code",
   "execution_count": 34,
   "id": "c0f6aeec",
   "metadata": {},
   "outputs": [
    {
     "name": "stderr",
     "output_type": "stream",
     "text": [
      "C:\\Users\\vigne\\AppData\\Local\\Temp\\ipykernel_6388\\3074255139.py:1: FutureWarning: \n",
      "\n",
      "`shade` is now deprecated in favor of `fill`; setting `fill=True`.\n",
      "This will become an error in seaborn v0.14.0; please update your code.\n",
      "\n",
      "  sns.kdeplot(rools,shade=True)\n"
     ]
    },
    {
     "data": {
      "text/plain": [
       "<AxesSubplot: ylabel='Density'>"
      ]
     },
     "execution_count": 34,
     "metadata": {},
     "output_type": "execute_result"
    },
    {
     "data": {
      "image/png": "[encoded data removed]",
      "text/plain": [
       "<Figure size 640x480 with 1 Axes>"
      ]
     },
     "metadata": {},
     "output_type": "display_data"
    }
   ],
   "source": [
    "sns.kdeplot(rools,shade=True)\n"
   ]
  },
  {
   "cell_type": "raw",
   "id": "d021ac10",
   "metadata": {},
   "source": [
    "correlated doesnot means it cause example if high correlation then it doesnot mean that y depends on x."
   ]
  },
  {
   "cell_type": "code",
   "execution_count": 35,
   "id": "d8e60137",
   "metadata": {},
   "outputs": [],
   "source": [
    "df=pd.Series([rools])"
   ]
  },
  {
   "cell_type": "code",
   "execution_count": 48,
   "id": "e18813d8",
   "metadata": {},
   "outputs": [
    {
     "data": {
      "text/plain": [
       "[3.38, 3.53, 3.46, 3.6, 3.38, 3.83, 3.49, 3.3, 3.43, 3.5, 3.71, 3.64, 3.43, 3.38, 3.55, 3.36, 3.38, 3.46, 3.56, 3.53, 3.46, 3.51, 3.72, 3.44, 3.35, 3.48, 3.49, 3.51, 3.44, 3.45, 3.54, 3.5, 3.36, 3.63, 3.55, 3.3, 3.45, 3.57, 3.88, 3.76, 3.67, 3.63, 3.4, 3.44, 3.65, 3.56, 3.35, 3.72, 3.37, 3.56, 3.72, 3.68, 3.44, 3.77, 3.49, 3.7, 3.28, 3.64, 3.82, 3.75, 3.74, 3.56, 3.67, 3.55, 3.49, 3.57, 3.56, 3.8, 3.43, 3.5, 3.59, 3.6, 3.26, 3.46, 3.7, 3.6, 3.36, 3.34, 3.68, 3.42, 3.58, 3.43, 3.44, 3.43, 3.56, 3.28, 3.43, 3.43, 3.4, 3.61, 3.47, 3.38, 3.6, 3.28, 3.42, 3.69, 3.81, 3.47, 3.55, 3.45, ...]    1\n",
       "dtype: int64"
      ]
     },
     "execution_count": 48,
     "metadata": {},
     "output_type": "execute_result"
    }
   ],
   "source": [
    "df.value_counts()\n"
   ]
  },
  {
   "cell_type": "raw",
   "id": "192e53bf",
   "metadata": {},
   "source": [
    "correlation\n",
    "measure the degree of relationship between two variable\n",
    "linear regression use correlation\n"
   ]
  },
  {
   "cell_type": "code",
   "execution_count": 45,
   "id": "0192bab4",
   "metadata": {},
   "outputs": [
    {
     "data": {
      "text/html": [
       "<div>\n",
       "<style scoped>\n",
       "    .dataframe tbody tr th:only-of-type {\n",
       "        vertical-align: middle;\n",
       "    }\n",
       "\n",
       "    .dataframe tbody tr th {\n",
       "        vertical-align: top;\n",
       "    }\n",
       "\n",
       "    .dataframe thead th {\n",
       "        text-align: right;\n",
       "    }\n",
       "</style>\n",
       "<table border=\"1\" class=\"dataframe\">\n",
       "  <thead>\n",
       "    <tr style=\"text-align: right;\">\n",
       "      <th></th>\n",
       "      <th>symboling</th>\n",
       "      <th>normalized_losses</th>\n",
       "    </tr>\n",
       "  </thead>\n",
       "  <tbody>\n",
       "    <tr>\n",
       "      <th>symboling</th>\n",
       "      <td>1.000000</td>\n",
       "      <td>0.474993</td>\n",
       "    </tr>\n",
       "    <tr>\n",
       "      <th>normalized_losses</th>\n",
       "      <td>0.474993</td>\n",
       "      <td>1.000000</td>\n",
       "    </tr>\n",
       "  </tbody>\n",
       "</table>\n",
       "</div>"
      ],
      "text/plain": [
       "                   symboling  normalized_losses\n",
       "symboling           1.000000           0.474993\n",
       "normalized_losses   0.474993           1.000000"
      ]
     },
     "execution_count": 45,
     "metadata": {},
     "output_type": "execute_result"
    }
   ],
   "source": [
    "df1.corr()"
   ]
  },
  {
   "cell_type": "code",
   "execution_count": 44,
   "id": "369ec6a3",
   "metadata": {},
   "outputs": [],
   "source": [
    "df1=df1[['symboling','normalized_losses']]\n"
   ]
  },
  {
   "cell_type": "raw",
   "id": "64c25f6d",
   "metadata": {},
   "source": [
    "# correlated doesnot means it cause example if high correlation then it doesnot mean that y depends on x.\n",
    "#scatter plot for correlation\n",
    "1.strong positive correlation\n",
    "2.moderate pos corr\n",
    "3.no corr\n",
    "4.strong negative corr\n",
    "5.moderate negative corr\n",
    "6.curvilinear corr\n"
   ]
  },
  {
   "cell_type": "markdown",
   "id": "5398592a",
   "metadata": {},
   "source": [
    "# probability"
   ]
  },
  {
   "cell_type": "raw",
   "id": "d34d0df4",
   "metadata": {},
   "source": [
    "why its important\n",
    "make prediction,occur or not occur\n",
    "key concepts\n",
    "experiment ,sample space,trial.\n",
    "probability lies between 0 and 1\n",
    "mutually exclusive events"
   ]
  },
  {
   "cell_type": "markdown",
   "id": "14e9caad",
   "metadata": {},
   "source": [
    "# hypothesis"
   ]
  },
  {
   "cell_type": "raw",
   "id": "3a44a627",
   "metadata": {},
   "source": [
    "assumption regarding a population parameter\n",
    "null hypothesis\n",
    "alternative hypothesis\n",
    "one tail test\n",
    "two tailed test\n",
    "type-1 error rejecting null when it is true\n",
    "type-2 accepting null when its False.\n",
    "\n"
   ]
  },
  {
   "cell_type": "markdown",
   "id": "1d8abd90",
   "metadata": {},
   "source": [
    "for any queries contact @ : https://www.linkedin.com/in/vigneshwar2103/"
   ]
  }
 ],
 "metadata": {
  "kernelspec": {
   "display_name": "Python 3 (ipykernel)",
   "language": "python",
   "name": "python3"
  },
  "language_info": {
   "codemirror_mode": {
    "name": "ipython",
    "version": 3
   },
   "file_extension": ".py",
   "mimetype": "text/x-python",
   "name": "python",
   "nbconvert_exporter": "python",
   "pygments_lexer": "ipython3",
   "version": "3.10.8"
  }
 },
 "nbformat": 4,
 "nbformat_minor": 5
}
